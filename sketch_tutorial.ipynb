{
  "nbformat": 4,
  "nbformat_minor": 0,
  "metadata": {
    "colab": {
      "provenance": [],
      "authorship_tag": "ABX9TyM3O+1JkgvLJepev9FkaAAI",
      "include_colab_link": true
    },
    "kernelspec": {
      "name": "python3",
      "display_name": "Python 3"
    },
    "language_info": {
      "name": "python"
    }
  },
  "cells": [
    {
      "cell_type": "markdown",
      "metadata": {
        "id": "view-in-github",
        "colab_type": "text"
      },
      "source": [
        "<a href=\"https://colab.research.google.com/github/infinite-ace/sketch-tutorial/blob/main/sketch_tutorial.ipynb\" target=\"_parent\"><img src=\"https://colab.research.google.com/assets/colab-badge.svg\" alt=\"Open In Colab\"/></a>"
      ]
    },
    {
      "cell_type": "code",
      "execution_count": null,
      "metadata": {
        "id": "AnpwRMc5yZjA"
      },
      "outputs": [],
      "source": [
        "pip install sketch"
      ]
    },
    {
      "cell_type": "code",
      "source": [
        "import pandas as pd\n",
        "import sketch"
      ],
      "metadata": {
        "id": "shxpdB7ny8H9"
      },
      "execution_count": null,
      "outputs": []
    },
    {
      "cell_type": "code",
      "source": [
        "df = pd.read_csv(\"https://raw.githubusercontent.com/Sven-Bo/datasets/master/supermarket_sales.csv\")\n",
        "df.head()"
      ],
      "metadata": {
        "id": "YNY1YAZwy-tE"
      },
      "execution_count": null,
      "outputs": []
    },
    {
      "cell_type": "code",
      "source": [
        "df.sketch.ask(\"What is this dataset about?\")"
      ],
      "metadata": {
        "id": "SlwVF6eOznqT"
      },
      "execution_count": null,
      "outputs": []
    },
    {
      "cell_type": "code",
      "source": [
        "df.sketch.ask('Can you give me friendly names and single sentence descriptions of each column? (format output as HTML List)')"
      ],
      "metadata": {
        "id": "k9xiOMdj09Ms"
      },
      "execution_count": null,
      "outputs": []
    },
    {
      "cell_type": "code",
      "source": [
        "df.sketch.ask('What interesting analysis could we perform?')"
      ],
      "metadata": {
        "id": "thC5qniD0gzW"
      },
      "execution_count": null,
      "outputs": []
    },
    {
      "cell_type": "code",
      "source": [
        "df.sketch.howto('Analyze the relationship between rating and total sale')"
      ],
      "metadata": {
        "id": "OOhn-1BGzy9m"
      },
      "execution_count": null,
      "outputs": []
    }
  ]
}